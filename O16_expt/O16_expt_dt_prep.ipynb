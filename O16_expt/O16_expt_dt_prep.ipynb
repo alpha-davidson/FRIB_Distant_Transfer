{
 "cells": [
  {
   "cell_type": "markdown",
   "metadata": {},
   "source": [
    "# Prepare Data for DW Task\n",
    "\n",
    "This notebook is dedicated to the tasks of preparing the dataset for the downstream task of O16 experimental and a PointNet model pre-trained on ModelNet10 dataset."
   ]
  },
  {
   "cell_type": "code",
   "execution_count": 1,
   "metadata": {},
   "outputs": [],
   "source": [
    "import os\n",
    "import numpy as np\n",
    "import datetime"
   ]
  },
  {
   "cell_type": "code",
   "execution_count": 3,
   "metadata": {},
   "outputs": [
    {
     "name": "stdout",
     "output_type": "stream",
     "text": [
      "(1814, 512, 3)\n",
      "(1814,)\n",
      "[1. 1. 0. 0. 0. 1. 2. 1. 1. 1.]\n"
     ]
    }
   ],
   "source": [
    "# Load initial O16_size512 dataset\n",
    "O16_expt_data_pointnet = np.load('/home/DAVIDSON/dmkurdydyk/FRIB_Distant_Transfer/O16_expt/data/O16_size512.npy', allow_pickle=True)\n",
    "O16_expt_labels_pointnet = O16_expt_data_pointnet[:, 0, 5]\n",
    "O16_expt_data_pointnet = O16_expt_data_pointnet[:, :, :3]\n",
    "print(O16_expt_data_pointnet.shape) # (1814, 512, 3)\n",
    "print(O16_expt_labels_pointnet.shape)\n",
    "print(O16_expt_labels_pointnet[990:1000]) # "
   ]
  },
  {
   "cell_type": "code",
   "execution_count": 5,
   "metadata": {},
   "outputs": [
    {
     "name": "stdout",
     "output_type": "stream",
     "text": [
      "(1814,)\n"
     ]
    }
   ],
   "source": [
    "# Save datasets for OG Pointnet model\n",
    "np.save('/home/DAVIDSON/dmkurdydyk/FRIB_Distant_Transfer/O16_expt/ready/distant_O16_expt_data_512.npy', O16_expt_data_pointnet)\n",
    "np.save('/home/DAVIDSON/dmkurdydyk/FRIB_Distant_Transfer/O16_expt/ready/distant_O16_expt_labels_512.npy', O16_expt_labels_pointnet)\n",
    "\n",
    "print(O16_expt_labels_pointnet.shape)\n"
   ]
  },
  {
   "cell_type": "code",
   "execution_count": null,
   "metadata": {},
   "outputs": [],
   "source": []
  }
 ],
 "metadata": {
  "kernelspec": {
   "display_name": "aot",
   "language": "python",
   "name": "python3"
  },
  "language_info": {
   "codemirror_mode": {
    "name": "ipython",
    "version": 3
   },
   "file_extension": ".py",
   "mimetype": "text/x-python",
   "name": "python",
   "nbconvert_exporter": "python",
   "pygments_lexer": "ipython3",
   "version": "3.8.16"
  },
  "orig_nbformat": 4
 },
 "nbformat": 4,
 "nbformat_minor": 2
}
