{
 "cells": [
  {
   "cell_type": "code",
   "execution_count": 1,
   "metadata": {},
   "outputs": [],
   "source": [
    "import random\n",
    "import h5py\n",
    "import numpy as np\n",
    "import tqdm\n",
    "import matplotlib.pyplot as plt\n",
    "from mpl_toolkits import mplot3d\n",
    "from sklearn.preprocessing import StandardScaler\n",
    "import math\n",
    "import sys\n",
    "import os\n"
   ]
  },
  {
   "cell_type": "code",
   "execution_count": 3,
   "metadata": {},
   "outputs": [],
   "source": [
    "# Get the current working directory\n",
    "current_directory = os.getcwd()\n",
    "\n",
    "# Define the sample size\n",
    "sample_size = 512\n",
    "\n",
    "# Define the paths relative to the current working directory\n",
    "data_raw_where = os.path.join(current_directory, 'data/')\n",
    "data_sampled_where = os.path.join(current_directory, 'data/data_sampled/')\n",
    "file_path = os.path.join(current_directory, 'data/run210.h5')"
   ]
  },
  {
   "cell_type": "markdown",
   "metadata": {},
   "source": [
    "##### Check Directories"
   ]
  },
  {
   "cell_type": "code",
   "execution_count": 4,
   "metadata": {},
   "outputs": [
    {
     "name": "stdout",
     "output_type": "stream",
     "text": [
      "Current working directory: /home/DAVIDSON/dmkurdydyk/FRIB_Distant_Transfer\n",
      "Data Raw Directory: /home/DAVIDSON/dmkurdydyk/FRIB_Distant_Transfer/data/\n",
      "Data Sampled Directory: /home/DAVIDSON/dmkurdydyk/FRIB_Distant_Transfer/data/data_sampled/\n",
      "H5 File Path: /home/DAVIDSON/dmkurdydyk/FRIB_Distant_Transfer/data/run210.h5\n"
     ]
    }
   ],
   "source": [
    "print(\"Current working directory:\", current_directory)\n",
    "print(\"Data Raw Directory:\", data_raw_where)\n",
    "print(\"Data Sampled Directory:\", data_sampled_where)\n",
    "print(\"H5 File Path:\", file_path)"
   ]
  },
  {
   "cell_type": "code",
   "execution_count": 5,
   "metadata": {},
   "outputs": [],
   "source": [
    "# Open the H5 file\n",
    "file = h5py.File(file_path, 'r')\n",
    "\n",
    "# The following will be needed to run later cells to align event ids\n",
    "original_keys = list(file.keys()) # the .keys() function lists the labels in a dictionary\n",
    "original_length = len(original_keys)\n",
    "\n",
    "#making an array of the lengths of events\n",
    "event_lens = np.zeros(original_length, int)"
   ]
  },
  {
   "cell_type": "code",
   "execution_count": 6,
   "metadata": {},
   "outputs": [],
   "source": [
    "#For experimental data, some events in the h5 file might be empty, the following code remove empty events:\n",
    "\n",
    "#count non-empty events\n",
    "count = 0\n",
    "#record non-empty events index\n",
    "index = np.zeros(original_length, int)\n",
    "\n",
    "for i in range(original_length):\n",
    "    event = original_keys[i]\n",
    "    event_lens[i-count] = len(file[event])\n",
    "    if event_lens[i-count] < 5:\n",
    "        count += 1\n",
    "    else:\n",
    "        index[i-count] = i\n",
    "#remove empty event index\n",
    "original_length = original_length - count\n",
    "\n",
    "\n",
    "event_lens = event_lens[:original_length]\n",
    "index = index[:original_length]\n",
    "\n",
    "np.save(data_raw_where + 'event_lens_old.npy', event_lens)"
   ]
  },
  {
   "cell_type": "code",
   "execution_count": 7,
   "metadata": {},
   "outputs": [
    {
     "name": "stderr",
     "output_type": "stream",
     "text": [
      "100%|██████████| 77659/77659 [14:57<00:00, 86.51it/s] \n"
     ]
    }
   ],
   "source": [
    "#making an array of the events data-- [event #, instance, data value]\n",
    "#length of each event is based on the longest event in dataset\n",
    "#5th index now corresponds to index of event id in original_keys\n",
    "# each instance will index according to the following \n",
    "# [0]x,[1]y,[2]z, [3]time, [4]Amplitude, [5]Event_id index\n",
    "\n",
    "event_data = np.zeros((original_length, np.max(event_lens), 6), float) \n",
    "\n",
    "j = 0\n",
    "for n in tqdm.tqdm(index):\n",
    "    name = original_keys[n]\n",
    "    event = file[name]\n",
    "    ev_len = len(event)\n",
    "    #converting event into an array\n",
    "    for i,e in enumerate(event):\n",
    "        instant = np.array(list(e))\n",
    "        event_data[j][i][:3] = np.array(instant[:3]) #X, Y, Z\n",
    "        event_data[j][i][3] = np.array(instant[4]) #Amplitude (charge)\n",
    "        event_data[j][i][4] = ev_len # #points in events \n",
    "        event_data[j][i][-1] = int(n) #event Id\n",
    "    j += 1\n",
    "np.save(data_raw_where + 'more_than_5_old', event_data)"
   ]
  },
  {
   "cell_type": "code",
   "execution_count": 8,
   "metadata": {},
   "outputs": [
    {
     "name": "stderr",
     "output_type": "stream",
     "text": [
      "100%|██████████| 77659/77659 [00:31<00:00, 2470.17it/s]\n"
     ]
    }
   ],
   "source": [
    "#Randomly choose sample_size of events\n",
    "event_lens = np.load(data_raw_where + 'event_lens_old.npy')\n",
    "data = np.load(data_raw_where + 'more_than_5_old.npy')\n",
    "#insert desired array to sample from \n",
    "\n",
    "new_data = np.zeros((original_length, sample_size, 6), float) \n",
    "for i in tqdm.tqdm(range(original_length)):\n",
    "    instant = 0\n",
    "    ev_len = event_lens[i]    #length of event-- i.e. number of instances\n",
    "    random_points = np.random.choice(range(ev_len), sample_size, replace = True if sample_size > ev_len else False)    #choosing the random instances to sample\n",
    "    for r in random_points:\n",
    "        new_data[i,instant] = data[i,r]\n",
    "        instant += 1\n",
    "np.save(data_sampled_where + str(sample_size)+'_sampled_old', new_data)      #creating new dataset within the h5 file for the event"
   ]
  },
  {
   "cell_type": "code",
   "execution_count": null,
   "metadata": {},
   "outputs": [],
   "source": []
  }
 ],
 "metadata": {
  "kernelspec": {
   "display_name": "aot",
   "language": "python",
   "name": "python3"
  },
  "language_info": {
   "codemirror_mode": {
    "name": "ipython",
    "version": 3
   },
   "file_extension": ".py",
   "mimetype": "text/x-python",
   "name": "python",
   "nbconvert_exporter": "python",
   "pygments_lexer": "ipython3",
   "version": "3.8.16"
  }
 },
 "nbformat": 4,
 "nbformat_minor": 2
}
