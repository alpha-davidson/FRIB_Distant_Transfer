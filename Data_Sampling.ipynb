{
 "cells": [
  {
   "cell_type": "code",
   "execution_count": 2,
   "metadata": {},
   "outputs": [],
   "source": [
    "import random\n",
    "import h5py\n",
    "import numpy as np\n",
    "import tqdm\n",
    "import matplotlib.pyplot as plt\n",
    "from mpl_toolkits import mplot3d\n",
    "from sklearn.preprocessing import StandardScaler\n",
    "import math\n",
    "import sys\n",
    "import os\n"
   ]
  },
  {
   "cell_type": "code",
   "execution_count": 5,
   "metadata": {},
   "outputs": [],
   "source": [
    "# Get the current working directory\n",
    "current_directory = os.getcwd()\n",
    "\n",
    "# Define the sample size\n",
    "sample_size = 256\n",
    "\n",
    "# Define the paths relative to the current working directory\n",
    "data_raw_where = os.path.join(current_directory, 'data/')\n",
    "data_sampled_where = os.path.join(current_directory, 'data/data_sampled/')\n",
    "file_path = os.path.join(current_directory, 'data/run210.h5')"
   ]
  },
  {
   "cell_type": "code",
   "execution_count": 6,
   "metadata": {},
   "outputs": [
    {
     "name": "stdout",
     "output_type": "stream",
     "text": [
      "Current working directory: /home/DAVIDSON/dmkurdydyk/FRIB_Distant_Transfer\n",
      "Data Raw Directory: /home/DAVIDSON/dmkurdydyk/FRIB_Distant_Transfer/data/\n",
      "Data Sampled Directory: /home/DAVIDSON/dmkurdydyk/FRIB_Distant_Transfer/data/data_sampled/\n",
      "H5 File Path: /home/DAVIDSON/dmkurdydyk/FRIB_Distant_Transfer/data/run210.h5\n"
     ]
    }
   ],
   "source": [
    "print(\"Current working directory:\", current_directory)\n",
    "print(\"Data Raw Directory:\", data_raw_where)\n",
    "print(\"Data Sampled Directory:\", data_sampled_where)\n",
    "print(\"H5 File Path:\", file_path)"
   ]
  },
  {
   "cell_type": "code",
   "execution_count": 11,
   "metadata": {},
   "outputs": [],
   "source": [
    "# Open the H5 file\n",
    "file = h5py.File(file_path, 'r')\n",
    "\n",
    "# The following will be needed to run later cells to align event ids\n",
    "original_keys = list(file.keys()) # the .keys() function lists the labels in a dictionary\n",
    "original_length = len(original_keys)\n",
    "\n",
    "#making an array of the lengths of events\n",
    "event_lens = np.zeros(original_length, int)"
   ]
  },
  {
   "cell_type": "code",
   "execution_count": 12,
   "metadata": {},
   "outputs": [],
   "source": [
    "#For experimental data, some events in the h5 file might be empty, the following code remove empty events:\n",
    "\n",
    "#count non-empty events\n",
    "count = 0\n",
    "#record non-empty events index\n",
    "index = np.zeros(original_length, int)\n",
    "\n",
    "for i in range(original_length):\n",
    "    event = original_keys[i]\n",
    "    event_lens[i-count] = len(file[event])\n",
    "    if event_lens[i-count] < 5:\n",
    "        count += 1\n",
    "    else:\n",
    "        index[i-count] = i\n",
    "#remove empty event index\n",
    "original_length = original_length - count\n",
    "\n",
    "\n",
    "event_lens = event_lens[:original_length]\n",
    "index = index[:original_length]\n",
    "\n",
    "np.save(data_raw_where + 'event_lens_old.npy', event_lens)"
   ]
  },
  {
   "cell_type": "code",
   "execution_count": 13,
   "metadata": {},
   "outputs": [
    {
     "name": "stderr",
     "output_type": "stream",
     "text": [
      "  1%|          | 756/77659 [00:07<13:32, 94.63it/s] \n"
     ]
    },
    {
     "ename": "KeyboardInterrupt",
     "evalue": "",
     "output_type": "error",
     "traceback": [
      "\u001b[0;31m---------------------------------------------------------------------------\u001b[0m",
      "\u001b[0;31mKeyboardInterrupt\u001b[0m                         Traceback (most recent call last)",
      "\u001b[1;32m/home/DAVIDSON/dmkurdydyk/FRIB_Distant_Transfer/Data_Sampling.ipynb Cell 6\u001b[0m line \u001b[0;36m1\n\u001b[1;32m     <a href='vscode-notebook-cell://ssh-remote%2Bphy3kuchera.davidson.edu/home/DAVIDSON/dmkurdydyk/FRIB_Distant_Transfer/Data_Sampling.ipynb#X10sdnNjb2RlLXJlbW90ZQ%3D%3D?line=12'>13</a>\u001b[0m ev_len \u001b[39m=\u001b[39m \u001b[39mlen\u001b[39m(event)\n\u001b[1;32m     <a href='vscode-notebook-cell://ssh-remote%2Bphy3kuchera.davidson.edu/home/DAVIDSON/dmkurdydyk/FRIB_Distant_Transfer/Data_Sampling.ipynb#X10sdnNjb2RlLXJlbW90ZQ%3D%3D?line=13'>14</a>\u001b[0m \u001b[39m#converting event into an array\u001b[39;00m\n\u001b[0;32m---> <a href='vscode-notebook-cell://ssh-remote%2Bphy3kuchera.davidson.edu/home/DAVIDSON/dmkurdydyk/FRIB_Distant_Transfer/Data_Sampling.ipynb#X10sdnNjb2RlLXJlbW90ZQ%3D%3D?line=14'>15</a>\u001b[0m \u001b[39mfor\u001b[39;00m i,e \u001b[39min\u001b[39;00m \u001b[39menumerate\u001b[39m(event):\n\u001b[1;32m     <a href='vscode-notebook-cell://ssh-remote%2Bphy3kuchera.davidson.edu/home/DAVIDSON/dmkurdydyk/FRIB_Distant_Transfer/Data_Sampling.ipynb#X10sdnNjb2RlLXJlbW90ZQ%3D%3D?line=15'>16</a>\u001b[0m     instant \u001b[39m=\u001b[39m np\u001b[39m.\u001b[39marray(\u001b[39mlist\u001b[39m(e))\n\u001b[1;32m     <a href='vscode-notebook-cell://ssh-remote%2Bphy3kuchera.davidson.edu/home/DAVIDSON/dmkurdydyk/FRIB_Distant_Transfer/Data_Sampling.ipynb#X10sdnNjb2RlLXJlbW90ZQ%3D%3D?line=16'>17</a>\u001b[0m     event_data[j][i][:\u001b[39m3\u001b[39m] \u001b[39m=\u001b[39m np\u001b[39m.\u001b[39marray(instant[:\u001b[39m3\u001b[39m]) \u001b[39m#X, Y, Z\u001b[39;00m\n",
      "File \u001b[0;32m~/.conda/envs/aot/lib/python3.8/site-packages/h5py/_hl/dataset.py:474\u001b[0m, in \u001b[0;36mDataset.__iter__\u001b[0;34m(self)\u001b[0m\n\u001b[1;32m    472\u001b[0m     \u001b[39mraise\u001b[39;00m \u001b[39mTypeError\u001b[39;00m(\u001b[39m\"\u001b[39m\u001b[39mCan\u001b[39m\u001b[39m'\u001b[39m\u001b[39mt iterate over a scalar dataset\u001b[39m\u001b[39m\"\u001b[39m)\n\u001b[1;32m    473\u001b[0m \u001b[39mfor\u001b[39;00m i \u001b[39min\u001b[39;00m xrange(shape[\u001b[39m0\u001b[39m]):\n\u001b[0;32m--> 474\u001b[0m     \u001b[39myield\u001b[39;00m \u001b[39mself\u001b[39;49m[i]\n",
      "File \u001b[0;32mh5py/_objects.pyx:54\u001b[0m, in \u001b[0;36mh5py._objects.with_phil.wrapper\u001b[0;34m()\u001b[0m\n",
      "File \u001b[0;32mh5py/_objects.pyx:55\u001b[0m, in \u001b[0;36mh5py._objects.with_phil.wrapper\u001b[0;34m()\u001b[0m\n",
      "File \u001b[0;32m~/.conda/envs/aot/lib/python3.8/site-packages/h5py/_hl/dataset.py:531\u001b[0m, in \u001b[0;36mDataset.__getitem__\u001b[0;34m(self, args)\u001b[0m\n\u001b[1;32m    527\u001b[0m     \u001b[39mreturn\u001b[39;00m out\n\u001b[1;32m    529\u001b[0m \u001b[39m# === Check for zero-sized datasets =====\u001b[39;00m\n\u001b[0;32m--> 531\u001b[0m \u001b[39mif\u001b[39;00m numpy\u001b[39m.\u001b[39mproduct(\u001b[39mself\u001b[39;49m\u001b[39m.\u001b[39;49mshape, dtype\u001b[39m=\u001b[39mnumpy\u001b[39m.\u001b[39mulonglong) \u001b[39m==\u001b[39m \u001b[39m0\u001b[39m:\n\u001b[1;32m    532\u001b[0m     \u001b[39m# These are the only access methods NumPy allows for such objects\u001b[39;00m\n\u001b[1;32m    533\u001b[0m     \u001b[39mif\u001b[39;00m args \u001b[39m==\u001b[39m (\u001b[39mEllipsis\u001b[39m,) \u001b[39mor\u001b[39;00m args \u001b[39m==\u001b[39m \u001b[39mtuple\u001b[39m():\n\u001b[1;32m    534\u001b[0m         \u001b[39mreturn\u001b[39;00m numpy\u001b[39m.\u001b[39mempty(\u001b[39mself\u001b[39m\u001b[39m.\u001b[39mshape, dtype\u001b[39m=\u001b[39mnew_dtype)\n",
      "File \u001b[0;32mh5py/_objects.pyx:54\u001b[0m, in \u001b[0;36mh5py._objects.with_phil.wrapper\u001b[0;34m()\u001b[0m\n",
      "File \u001b[0;32mh5py/_objects.pyx:55\u001b[0m, in \u001b[0;36mh5py._objects.with_phil.wrapper\u001b[0;34m()\u001b[0m\n",
      "File \u001b[0;32m~/.conda/envs/aot/lib/python3.8/site-packages/h5py/_hl/dataset.py:286\u001b[0m, in \u001b[0;36mDataset.shape\u001b[0;34m(self)\u001b[0m\n\u001b[1;32m    282\u001b[0m \u001b[39m@property\u001b[39m\n\u001b[1;32m    283\u001b[0m \u001b[39m@with_phil\u001b[39m\n\u001b[1;32m    284\u001b[0m \u001b[39mdef\u001b[39;00m \u001b[39mshape\u001b[39m(\u001b[39mself\u001b[39m):\n\u001b[1;32m    285\u001b[0m \u001b[39m    \u001b[39m\u001b[39m\"\"\"Numpy-style shape tuple giving dataset dimensions\"\"\"\u001b[39;00m\n\u001b[0;32m--> 286\u001b[0m     \u001b[39mreturn\u001b[39;00m \u001b[39mself\u001b[39;49m\u001b[39m.\u001b[39;49mid\u001b[39m.\u001b[39;49mshape\n",
      "\u001b[0;31mKeyboardInterrupt\u001b[0m: "
     ]
    }
   ],
   "source": [
    "#making an array of the events data-- [event #, instance, data value]\n",
    "#length of each event is based on the longest event in dataset\n",
    "#5th index now corresponds to index of event id in original_keys\n",
    "# each instance will index according to the following \n",
    "# [0]x,[1]y,[2]z, [3]time, [4]Amplitude, [5]Event_id index\n",
    "\n",
    "event_data = np.zeros((original_length, np.max(event_lens), 6), float) \n",
    "\n",
    "j = 0\n",
    "for n in tqdm.tqdm(index):\n",
    "    name = original_keys[n]\n",
    "    event = file[name]\n",
    "    ev_len = len(event)\n",
    "    #converting event into an array\n",
    "    for i,e in enumerate(event):\n",
    "        instant = np.array(list(e))\n",
    "        event_data[j][i][:3] = np.array(instant[:3]) #X, Y, Z\n",
    "        event_data[j][i][3] = np.array(instant[4]) #Amplitude (charge)\n",
    "        event_data[j][i][4] = ev_len # #points in events \n",
    "        event_data[j][i][-1] = int(n) #event Id\n",
    "    j += 1\n",
    "np.save(data_raw_where + 'more_than_5_old', event_data)"
   ]
  },
  {
   "cell_type": "code",
   "execution_count": 8,
   "metadata": {},
   "outputs": [
    {
     "ename": "KeyboardInterrupt",
     "evalue": "",
     "output_type": "error",
     "traceback": [
      "\u001b[0;31m---------------------------------------------------------------------------\u001b[0m",
      "\u001b[0;31mKeyboardInterrupt\u001b[0m                         Traceback (most recent call last)",
      "\u001b[1;32m/home/DAVIDSON/dmkurdydyk/FRIB_Distant_Transfer/Data_Sampling.ipynb Cell 7\u001b[0m line \u001b[0;36m3\n\u001b[1;32m      <a href='vscode-notebook-cell://ssh-remote%2Bphy3kuchera.davidson.edu/home/DAVIDSON/dmkurdydyk/FRIB_Distant_Transfer/Data_Sampling.ipynb#X11sdnNjb2RlLXJlbW90ZQ%3D%3D?line=0'>1</a>\u001b[0m \u001b[39m#Randomly choose sample_size of events\u001b[39;00m\n\u001b[1;32m      <a href='vscode-notebook-cell://ssh-remote%2Bphy3kuchera.davidson.edu/home/DAVIDSON/dmkurdydyk/FRIB_Distant_Transfer/Data_Sampling.ipynb#X11sdnNjb2RlLXJlbW90ZQ%3D%3D?line=1'>2</a>\u001b[0m event_lens \u001b[39m=\u001b[39m np\u001b[39m.\u001b[39mload(data_raw_where \u001b[39m+\u001b[39m \u001b[39m'\u001b[39m\u001b[39mevent_lens_old.npy\u001b[39m\u001b[39m'\u001b[39m)\n\u001b[0;32m----> <a href='vscode-notebook-cell://ssh-remote%2Bphy3kuchera.davidson.edu/home/DAVIDSON/dmkurdydyk/FRIB_Distant_Transfer/Data_Sampling.ipynb#X11sdnNjb2RlLXJlbW90ZQ%3D%3D?line=2'>3</a>\u001b[0m data \u001b[39m=\u001b[39m np\u001b[39m.\u001b[39;49mload(data_raw_where \u001b[39m+\u001b[39;49m \u001b[39m'\u001b[39;49m\u001b[39mmore_than_5_old.npy\u001b[39;49m\u001b[39m'\u001b[39;49m)\n\u001b[1;32m      <a href='vscode-notebook-cell://ssh-remote%2Bphy3kuchera.davidson.edu/home/DAVIDSON/dmkurdydyk/FRIB_Distant_Transfer/Data_Sampling.ipynb#X11sdnNjb2RlLXJlbW90ZQ%3D%3D?line=3'>4</a>\u001b[0m \u001b[39m#insert desired array to sample from \u001b[39;00m\n\u001b[1;32m      <a href='vscode-notebook-cell://ssh-remote%2Bphy3kuchera.davidson.edu/home/DAVIDSON/dmkurdydyk/FRIB_Distant_Transfer/Data_Sampling.ipynb#X11sdnNjb2RlLXJlbW90ZQ%3D%3D?line=5'>6</a>\u001b[0m new_data \u001b[39m=\u001b[39m np\u001b[39m.\u001b[39mzeros((original_length, sample_size, \u001b[39m6\u001b[39m), \u001b[39mfloat\u001b[39m) \n",
      "File \u001b[0;32m~/.conda/envs/aot/lib/python3.8/site-packages/numpy/lib/npyio.py:432\u001b[0m, in \u001b[0;36mload\u001b[0;34m(file, mmap_mode, allow_pickle, fix_imports, encoding, max_header_size)\u001b[0m\n\u001b[1;32m    429\u001b[0m         \u001b[39mreturn\u001b[39;00m \u001b[39mformat\u001b[39m\u001b[39m.\u001b[39mopen_memmap(file, mode\u001b[39m=\u001b[39mmmap_mode,\n\u001b[1;32m    430\u001b[0m                                   max_header_size\u001b[39m=\u001b[39mmax_header_size)\n\u001b[1;32m    431\u001b[0m     \u001b[39melse\u001b[39;00m:\n\u001b[0;32m--> 432\u001b[0m         \u001b[39mreturn\u001b[39;00m \u001b[39mformat\u001b[39;49m\u001b[39m.\u001b[39;49mread_array(fid, allow_pickle\u001b[39m=\u001b[39;49mallow_pickle,\n\u001b[1;32m    433\u001b[0m                                  pickle_kwargs\u001b[39m=\u001b[39;49mpickle_kwargs,\n\u001b[1;32m    434\u001b[0m                                  max_header_size\u001b[39m=\u001b[39;49mmax_header_size)\n\u001b[1;32m    435\u001b[0m \u001b[39melse\u001b[39;00m:\n\u001b[1;32m    436\u001b[0m     \u001b[39m# Try a pickle\u001b[39;00m\n\u001b[1;32m    437\u001b[0m     \u001b[39mif\u001b[39;00m \u001b[39mnot\u001b[39;00m allow_pickle:\n",
      "File \u001b[0;32m~/.conda/envs/aot/lib/python3.8/site-packages/numpy/lib/format.py:790\u001b[0m, in \u001b[0;36mread_array\u001b[0;34m(fp, allow_pickle, pickle_kwargs, max_header_size)\u001b[0m\n\u001b[1;32m    787\u001b[0m \u001b[39melse\u001b[39;00m:\n\u001b[1;32m    788\u001b[0m     \u001b[39mif\u001b[39;00m isfileobj(fp):\n\u001b[1;32m    789\u001b[0m         \u001b[39m# We can use the fast fromfile() function.\u001b[39;00m\n\u001b[0;32m--> 790\u001b[0m         array \u001b[39m=\u001b[39m numpy\u001b[39m.\u001b[39;49mfromfile(fp, dtype\u001b[39m=\u001b[39;49mdtype, count\u001b[39m=\u001b[39;49mcount)\n\u001b[1;32m    791\u001b[0m     \u001b[39melse\u001b[39;00m:\n\u001b[1;32m    792\u001b[0m         \u001b[39m# This is not a real file. We have to read it the\u001b[39;00m\n\u001b[1;32m    793\u001b[0m         \u001b[39m# memory-intensive way.\u001b[39;00m\n\u001b[0;32m   (...)\u001b[0m\n\u001b[1;32m    801\u001b[0m         \u001b[39m# not correctly instantiate zero-width string dtypes; see\u001b[39;00m\n\u001b[1;32m    802\u001b[0m         \u001b[39m# https://github.com/numpy/numpy/pull/6430\u001b[39;00m\n\u001b[1;32m    803\u001b[0m         array \u001b[39m=\u001b[39m numpy\u001b[39m.\u001b[39mndarray(count, dtype\u001b[39m=\u001b[39mdtype)\n",
      "\u001b[0;31mKeyboardInterrupt\u001b[0m: "
     ]
    }
   ],
   "source": [
    "#Randomly choose sample_size of events\n",
    "event_lens = np.load(data_raw_where + 'event_lens_old.npy')\n",
    "data = np.load(data_raw_where + 'more_than_5_old.npy')\n",
    "#insert desired array to sample from \n",
    "\n",
    "new_data = np.zeros((original_length, sample_size, 6), float) \n",
    "for i in tqdm.tqdm(range(original_length)):\n",
    "    instant = 0\n",
    "    ev_len = event_lens[i]    #length of event-- i.e. number of instances\n",
    "    random_points = np.random.choice(range(ev_len), sample_size, replace = True if sample_size > ev_len else False)    #choosing the random instances to sample\n",
    "    for r in random_points:\n",
    "        new_data[i,instant] = data[i,r]\n",
    "        instant += 1\n",
    "np.save(data_sampled_where + str(sample_size)+'_sampled_old', new_data)      #creating new dataset within the h5 file for the event"
   ]
  },
  {
   "cell_type": "code",
   "execution_count": null,
   "metadata": {},
   "outputs": [],
   "source": []
  }
 ],
 "metadata": {
  "kernelspec": {
   "display_name": "aot",
   "language": "python",
   "name": "python3"
  },
  "language_info": {
   "codemirror_mode": {
    "name": "ipython",
    "version": 3
   },
   "file_extension": ".py",
   "mimetype": "text/x-python",
   "name": "python",
   "nbconvert_exporter": "python",
   "pygments_lexer": "ipython3",
   "version": "3.8.16"
  }
 },
 "nbformat": 4,
 "nbformat_minor": 2
}
